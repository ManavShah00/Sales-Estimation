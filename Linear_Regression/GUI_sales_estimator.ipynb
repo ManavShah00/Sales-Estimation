{
 "cells": [
  {
   "cell_type": "code",
   "execution_count": 35,
   "metadata": {},
   "outputs": [],
   "source": [
    "from tkinter import *\n",
    "import pickle"
   ]
  },
  {
   "cell_type": "code",
   "execution_count": 36,
   "metadata": {},
   "outputs": [],
   "source": [
    "MODEL_PATH=\"models/multi_reg.sav\"\n",
    "loaded_model=pickle.load(open(MODEL_PATH,'rb'))"
   ]
  },
  {
   "cell_type": "code",
   "execution_count": 37,
   "metadata": {},
   "outputs": [],
   "source": [
    "#calculating sales w.r.t input\n",
    "def calculate_sale(arg):\n",
    "    res=loaded_model.predict([[tv.get(),radio.get(),newspaper.get()]])\n",
    "    sale_label.config(text=\"Expected Sale : {:.2f}/-\".format(res[0][0]))\n"
   ]
  },
  {
   "cell_type": "code",
   "execution_count": 44,
   "metadata": {},
   "outputs": [
    {
     "data": {
      "text/plain": [
       "''"
      ]
     },
     "execution_count": 44,
     "metadata": {},
     "output_type": "execute_result"
    }
   ],
   "source": [
    "#initializing the tkinter window\n",
    "master=Tk()\n",
    "master.geometry(\"700x400\")\n",
    "master.configure(background='#00aaff')\n",
    "master.title('sales Estimator')"
   ]
  },
  {
   "cell_type": "code",
   "execution_count": 45,
   "metadata": {},
   "outputs": [],
   "source": [
    "#lable to show the estimated sale\n",
    "sale_label =Label(master,bg='#00aaff',fg=\"white\" , font=(\"Times\",40,\"bold\"),text=\"Hello Tkinter!\")\n",
    "sale_label.pack(padx=5,pady=20)"
   ]
  },
  {
   "cell_type": "code",
   "execution_count": 46,
   "metadata": {},
   "outputs": [],
   "source": [
    "#scale to take TV advertising invasment amount from user\n",
    "tv=Scale(master,length=650,label=\"TV\",bg=\"#ff8080\",fg=\"black\",from_=0,to=2000,orient=HORIZONTAL,command=calculate_sale)\n",
    "tv.set(10)\n",
    "tv.pack(padx=5,pady=5)\n"
   ]
  },
  {
   "cell_type": "code",
   "execution_count": 47,
   "metadata": {},
   "outputs": [],
   "source": [
    "radio=Scale(master,length=650,label=\"Radio\",bg=\"#ff8080\",fg=\"black\",from_=0,to=2000,orient=HORIZONTAL,command=calculate_sale)\n",
    "radio.set(10)\n",
    "radio.pack(padx=5,pady=5)\n"
   ]
  },
  {
   "cell_type": "code",
   "execution_count": 48,
   "metadata": {},
   "outputs": [],
   "source": [
    "newspaper=Scale(master,length=650,label=\"Newspaper\",bg=\"#ff8080\",fg=\"black\",from_=0,to=2000,orient=HORIZONTAL,command=calculate_sale)\n",
    "newspaper.set(10)\n",
    "newspaper.pack(padx=5,pady=5)\n"
   ]
  },
  {
   "cell_type": "code",
   "execution_count": 49,
   "metadata": {},
   "outputs": [],
   "source": [
    "#showing the application\n",
    "mainloop()"
   ]
  },
  {
   "cell_type": "code",
   "execution_count": null,
   "metadata": {},
   "outputs": [],
   "source": []
  }
 ],
 "metadata": {
  "kernelspec": {
   "display_name": "Python 3",
   "language": "python",
   "name": "python3"
  },
  "language_info": {
   "codemirror_mode": {
    "name": "ipython",
    "version": 3
   },
   "file_extension": ".py",
   "mimetype": "text/x-python",
   "name": "python",
   "nbconvert_exporter": "python",
   "pygments_lexer": "ipython3",
   "version": "3.8.5"
  }
 },
 "nbformat": 4,
 "nbformat_minor": 4
}
